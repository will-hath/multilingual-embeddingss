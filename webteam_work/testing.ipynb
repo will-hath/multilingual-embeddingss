{
 "cells": [
  {
   "cell_type": "code",
   "execution_count": 1,
   "metadata": {},
   "outputs": [
    {
     "name": "stdout",
     "output_type": "stream",
     "text": [
      "Requirement already satisfied: mteb in /Users/willhathaway/opt/anaconda3/lib/python3.9/site-packages (1.1.1)\n",
      "Requirement already satisfied: datasets>=2.2.0 in /Users/willhathaway/opt/anaconda3/lib/python3.9/site-packages (from mteb) (2.7.1)\n",
      "Requirement already satisfied: jsonlines in /Users/willhathaway/opt/anaconda3/lib/python3.9/site-packages (from mteb) (4.0.0)\n",
      "Requirement already satisfied: numpy in /Users/willhathaway/opt/anaconda3/lib/python3.9/site-packages (from mteb) (1.24.3)\n",
      "Requirement already satisfied: requests>=2.26.0 in /Users/willhathaway/opt/anaconda3/lib/python3.9/site-packages (from mteb) (2.29.0)\n",
      "Requirement already satisfied: scikit-learn>=1.0.2 in /Users/willhathaway/opt/anaconda3/lib/python3.9/site-packages (from mteb) (1.2.2)\n",
      "Requirement already satisfied: scipy in /Users/willhathaway/opt/anaconda3/lib/python3.9/site-packages (from mteb) (1.10.1)\n",
      "Requirement already satisfied: sentence-transformers>=2.2.0 in /Users/willhathaway/opt/anaconda3/lib/python3.9/site-packages (from mteb) (2.2.2)\n",
      "Requirement already satisfied: torch in /Users/willhathaway/opt/anaconda3/lib/python3.9/site-packages (from mteb) (2.0.1)\n",
      "Requirement already satisfied: tqdm in /Users/willhathaway/opt/anaconda3/lib/python3.9/site-packages (from mteb) (4.65.0)\n",
      "Requirement already satisfied: rich in /Users/willhathaway/opt/anaconda3/lib/python3.9/site-packages (from mteb) (12.6.0)\n",
      "Requirement already satisfied: pyarrow>=6.0.0 in /Users/willhathaway/opt/anaconda3/lib/python3.9/site-packages (from datasets>=2.2.0->mteb) (10.0.1)\n",
      "Requirement already satisfied: dill<0.3.7 in /Users/willhathaway/opt/anaconda3/lib/python3.9/site-packages (from datasets>=2.2.0->mteb) (0.3.6)\n",
      "Requirement already satisfied: pandas in /Users/willhathaway/opt/anaconda3/lib/python3.9/site-packages (from datasets>=2.2.0->mteb) (1.2.3)\n",
      "Requirement already satisfied: xxhash in /Users/willhathaway/opt/anaconda3/lib/python3.9/site-packages (from datasets>=2.2.0->mteb) (3.1.0)\n",
      "Requirement already satisfied: multiprocess in /Users/willhathaway/opt/anaconda3/lib/python3.9/site-packages (from datasets>=2.2.0->mteb) (0.70.14)\n",
      "Requirement already satisfied: fsspec[http]>=2021.11.1 in /Users/willhathaway/opt/anaconda3/lib/python3.9/site-packages (from datasets>=2.2.0->mteb) (2023.4.0)\n",
      "Requirement already satisfied: aiohttp in /Users/willhathaway/opt/anaconda3/lib/python3.9/site-packages (from datasets>=2.2.0->mteb) (3.8.3)\n",
      "Requirement already satisfied: huggingface-hub<1.0.0,>=0.2.0 in /Users/willhathaway/opt/anaconda3/lib/python3.9/site-packages (from datasets>=2.2.0->mteb) (0.15.1)\n",
      "Requirement already satisfied: packaging in /Users/willhathaway/opt/anaconda3/lib/python3.9/site-packages (from datasets>=2.2.0->mteb) (23.0)\n",
      "Requirement already satisfied: responses<0.19 in /Users/willhathaway/opt/anaconda3/lib/python3.9/site-packages (from datasets>=2.2.0->mteb) (0.18.0)\n",
      "Requirement already satisfied: pyyaml>=5.1 in /Users/willhathaway/opt/anaconda3/lib/python3.9/site-packages (from datasets>=2.2.0->mteb) (6.0)\n",
      "Requirement already satisfied: charset-normalizer<4,>=2 in /Users/willhathaway/opt/anaconda3/lib/python3.9/site-packages (from requests>=2.26.0->mteb) (2.0.4)\n",
      "Requirement already satisfied: idna<4,>=2.5 in /Users/willhathaway/opt/anaconda3/lib/python3.9/site-packages (from requests>=2.26.0->mteb) (2.10)\n",
      "Requirement already satisfied: urllib3<1.27,>=1.21.1 in /Users/willhathaway/opt/anaconda3/lib/python3.9/site-packages (from requests>=2.26.0->mteb) (1.25.11)\n",
      "Requirement already satisfied: certifi>=2017.4.17 in /Users/willhathaway/opt/anaconda3/lib/python3.9/site-packages (from requests>=2.26.0->mteb) (2023.5.7)\n",
      "Requirement already satisfied: joblib>=1.1.1 in /Users/willhathaway/opt/anaconda3/lib/python3.9/site-packages (from scikit-learn>=1.0.2->mteb) (1.2.0)\n",
      "Requirement already satisfied: threadpoolctl>=2.0.0 in /Users/willhathaway/opt/anaconda3/lib/python3.9/site-packages (from scikit-learn>=1.0.2->mteb) (2.2.0)\n",
      "Requirement already satisfied: transformers<5.0.0,>=4.6.0 in /Users/willhathaway/opt/anaconda3/lib/python3.9/site-packages (from sentence-transformers>=2.2.0->mteb) (4.32.1)\n",
      "Requirement already satisfied: torchvision in /Users/willhathaway/opt/anaconda3/lib/python3.9/site-packages (from sentence-transformers>=2.2.0->mteb) (0.15.2)\n",
      "Requirement already satisfied: nltk in /Users/willhathaway/opt/anaconda3/lib/python3.9/site-packages (from sentence-transformers>=2.2.0->mteb) (3.5)\n",
      "Requirement already satisfied: sentencepiece in /Users/willhathaway/opt/anaconda3/lib/python3.9/site-packages (from sentence-transformers>=2.2.0->mteb) (0.1.99)\n",
      "Requirement already satisfied: filelock in /Users/willhathaway/opt/anaconda3/lib/python3.9/site-packages (from torch->mteb) (3.9.0)\n",
      "Requirement already satisfied: typing-extensions in /Users/willhathaway/opt/anaconda3/lib/python3.9/site-packages (from torch->mteb) (4.6.2)\n",
      "Requirement already satisfied: sympy in /Users/willhathaway/opt/anaconda3/lib/python3.9/site-packages (from torch->mteb) (1.11.1)\n",
      "Requirement already satisfied: networkx in /Users/willhathaway/opt/anaconda3/lib/python3.9/site-packages (from torch->mteb) (2.5.1)\n",
      "Requirement already satisfied: jinja2 in /Users/willhathaway/opt/anaconda3/lib/python3.9/site-packages (from torch->mteb) (3.1.2)\n",
      "Requirement already satisfied: attrs>=19.2.0 in /Users/willhathaway/opt/anaconda3/lib/python3.9/site-packages (from jsonlines->mteb) (22.1.0)\n",
      "Requirement already satisfied: commonmark<0.10.0,>=0.9.0 in /Users/willhathaway/opt/anaconda3/lib/python3.9/site-packages (from rich->mteb) (0.9.1)\n",
      "Requirement already satisfied: pygments<3.0.0,>=2.6.0 in /Users/willhathaway/opt/anaconda3/lib/python3.9/site-packages (from rich->mteb) (2.15.1)\n",
      "Requirement already satisfied: multidict<7.0,>=4.5 in /Users/willhathaway/opt/anaconda3/lib/python3.9/site-packages (from aiohttp->datasets>=2.2.0->mteb) (6.0.2)\n",
      "Requirement already satisfied: async-timeout<5.0,>=4.0.0a3 in /Users/willhathaway/opt/anaconda3/lib/python3.9/site-packages (from aiohttp->datasets>=2.2.0->mteb) (4.0.2)\n",
      "Requirement already satisfied: yarl<2.0,>=1.0 in /Users/willhathaway/opt/anaconda3/lib/python3.9/site-packages (from aiohttp->datasets>=2.2.0->mteb) (1.8.1)\n",
      "Requirement already satisfied: frozenlist>=1.1.1 in /Users/willhathaway/opt/anaconda3/lib/python3.9/site-packages (from aiohttp->datasets>=2.2.0->mteb) (1.3.3)\n",
      "Requirement already satisfied: aiosignal>=1.1.2 in /Users/willhathaway/opt/anaconda3/lib/python3.9/site-packages (from aiohttp->datasets>=2.2.0->mteb) (1.2.0)\n",
      "Requirement already satisfied: regex!=2019.12.17 in /Users/willhathaway/opt/anaconda3/lib/python3.9/site-packages (from transformers<5.0.0,>=4.6.0->sentence-transformers>=2.2.0->mteb) (2022.7.9)\n",
      "Requirement already satisfied: tokenizers!=0.11.3,<0.14,>=0.11.1 in /Users/willhathaway/opt/anaconda3/lib/python3.9/site-packages (from transformers<5.0.0,>=4.6.0->sentence-transformers>=2.2.0->mteb) (0.13.3)\n",
      "Requirement already satisfied: safetensors>=0.3.1 in /Users/willhathaway/opt/anaconda3/lib/python3.9/site-packages (from transformers<5.0.0,>=4.6.0->sentence-transformers>=2.2.0->mteb) (0.3.3)\n",
      "Requirement already satisfied: MarkupSafe>=2.0 in /Users/willhathaway/opt/anaconda3/lib/python3.9/site-packages (from jinja2->torch->mteb) (2.1.1)\n",
      "Requirement already satisfied: decorator<5,>=4.3 in /Users/willhathaway/opt/anaconda3/lib/python3.9/site-packages (from networkx->torch->mteb) (4.4.2)\n",
      "Requirement already satisfied: click in /Users/willhathaway/opt/anaconda3/lib/python3.9/site-packages (from nltk->sentence-transformers>=2.2.0->mteb) (8.0.4)\n",
      "Requirement already satisfied: python-dateutil>=2.7.3 in /Users/willhathaway/opt/anaconda3/lib/python3.9/site-packages (from pandas->datasets>=2.2.0->mteb) (2.8.2)\n",
      "Requirement already satisfied: pytz>=2017.3 in /Users/willhathaway/opt/anaconda3/lib/python3.9/site-packages (from pandas->datasets>=2.2.0->mteb) (2022.7)\n",
      "Requirement already satisfied: mpmath>=0.19 in /Users/willhathaway/opt/anaconda3/lib/python3.9/site-packages (from sympy->torch->mteb) (1.2.1)\n",
      "Requirement already satisfied: pillow!=8.3.*,>=5.3.0 in /Users/willhathaway/opt/anaconda3/lib/python3.9/site-packages (from torchvision->sentence-transformers>=2.2.0->mteb) (9.4.0)\n",
      "Requirement already satisfied: six>=1.5 in /Users/willhathaway/opt/anaconda3/lib/python3.9/site-packages (from python-dateutil>=2.7.3->pandas->datasets>=2.2.0->mteb) (1.16.0)\n"
     ]
    }
   ],
   "source": [
    "!pip install mteb"
   ]
  },
  {
   "cell_type": "code",
   "execution_count": 3,
   "metadata": {},
   "outputs": [
    {
     "name": "stdout",
     "output_type": "stream",
     "text": [
      "Using device: mps\n"
     ]
    }
   ],
   "source": [
    "import torch\n",
    "from transformers import AutoTokenizer, AutoModel\n",
    "if torch.backends.mps.is_available():\n",
    "    device = torch.device(\"mps\")\n",
    "elif torch.cuda.is_available():\n",
    "    device = torch.device(\"cuda\")\n",
    "else:\n",
    "    device = torch.device(\"cpu\")\n",
    "print(\"Using device:\", device)"
   ]
  },
  {
   "cell_type": "code",
   "execution_count": 4,
   "metadata": {},
   "outputs": [
    {
     "name": "stdout",
     "output_type": "stream",
     "text": [
      "\u001b[34me5-base-v2-100k\u001b[m\u001b[m/     \u001b[34me5-base-v2-50k\u001b[m\u001b[m/      \u001b[34me5-base-v2-esp-150k\u001b[m\u001b[m/\n"
     ]
    }
   ],
   "source": [
    "ls trained"
   ]
  },
  {
   "cell_type": "code",
   "execution_count": 15,
   "metadata": {},
   "outputs": [],
   "source": [
    "# load from disk\n",
    "class embedding_model:\n",
    "    def __init__(self, model, tokenizer, device, inference=False):\n",
    "        self.model = model.to(device)\n",
    "        self.tokenizer = tokenizer\n",
    "        self.device = device\n",
    "        if inference:\n",
    "            self.model.eval()\n",
    "            self.model.requires_grad_(False)\n",
    "\n",
    "    def average_pool(last_hidden_states: torch.Tensor,\n",
    "                 attention_mask: torch.Tensor) -> torch.Tensor:\n",
    "        last_hidden = last_hidden_states.masked_fill(~attention_mask[..., None].bool(), 0.0)\n",
    "        return last_hidden.sum(dim=1) / attention_mask.sum(dim=1)[..., None]\n",
    "    \n",
    "    def encode(self, sentences, batch_size=32):\n",
    "        embeddings = []\n",
    "        for i in range(0, len(sentences), batch_size):\n",
    "            batch_sentences = sentences[i:i+batch_size]\n",
    "            for sentence in batch_sentences:\n",
    "                embedding = self.__call__(sentence)\n",
    "                # Take the first element of the tensor to get a 1D tensor\n",
    "                embedding = embedding[0]\n",
    "                embeddings.append(embedding.cpu().numpy())\n",
    "        return embeddings\n",
    "\n",
    "    def __call__(self, data):\n",
    "        tokens_and_mask = self.tokenizer(data, return_tensors='pt', padding=True, truncation=True, max_length=512).to(self.device)\n",
    "        model_output = self.model(tokens_and_mask[\"input_ids\"], attention_mask=tokens_and_mask[\"attention_mask\"])\n",
    "        embedding = embedding_model.average_pool(model_output.last_hidden_state, attention_mask=tokens_and_mask[\"attention_mask\"])\n",
    "        # normalize the embedding\n",
    "        embedding = embedding / embedding.norm(dim=-1, keepdim=True)\n",
    "        return embedding    \n",
    "\n",
    "dyn = embedding_model(AutoModel.from_pretrained(\"/Users/willhathaway/classes/6.s898/mulitlingual-embeddings/webteam_work/trained/e5-base-v2-esp-150k\"), AutoTokenizer.from_pretrained(\"tokenizers/e5-base-v2\"), device=device, inference=True)\n",
    "# sta = embedding_model(AutoModel.from_pretrained(\"models/e5-base-v2\"), AutoTokenizer.from_pretrained(\"tokenizers/e5-base-v2\"), device=device, inference=True)\n",
    "# mult = embedding_model(AutoModel.from_pretrained(\"models/multilingual-e5-small\"), AutoTokenizer.from_pretrained(\"tokenizers/multilingual-e5-small\"), device=device, inference=True)\n",
    "\n",
    "\n",
    "\n",
    "# put into dictionary\n",
    "models = {\n",
    "    \"dyn\": dyn,\n",
    "}"
   ]
  },
  {
   "cell_type": "markdown",
   "metadata": {},
   "source": [
    "## MTEB"
   ]
  },
  {
   "cell_type": "code",
   "execution_count": 2,
   "metadata": {},
   "outputs": [
    {
     "name": "stdout",
     "output_type": "stream",
     "text": [
      "Intel MKL WARNING: Support of Intel(R) Streaming SIMD Extensions 4.2 (Intel(R) SSE4.2) enabled only processors has been deprecated. Intel oneAPI Math Kernel Library 2025.0 will require Intel(R) Advanced Vector Extensions (Intel(R) AVX) instructions.\n",
      "Intel MKL WARNING: Support of Intel(R) Streaming SIMD Extensions 4.2 (Intel(R) SSE4.2) enabled only processors has been deprecated. Intel oneAPI Math Kernel Library 2025.0 will require Intel(R) Advanced Vector Extensions (Intel(R) AVX) instructions.\n"
     ]
    },
    {
     "ename": "",
     "evalue": "",
     "output_type": "error",
     "traceback": [
      "\u001b[1;31mThe Kernel crashed while executing code in the the current cell or a previous cell. Please review the code in the cell(s) to identify a possible cause of the failure. Click <a href='https://aka.ms/vscodeJupyterKernelCrash'>here</a> for more info. View Jupyter <a href='command:jupyter.viewOutput'>log</a> for further details."
     ]
    }
   ],
   "source": [
    "from mteb import MTEB\n",
    "from sentence_transformers import SentenceTransformer\n",
    "\n",
    "model_name = \"dyn\"\n",
    "\n",
    "# model = SentenceTransformer(model_name)\n",
    "evaluation = MTEB(tasks=[\"Banking77Classification\"], task_langs=[\"en\", \"de\"])\n",
    "results = evaluation.run(models[model_name], output_folder=f\"results/{model_name}\")"
   ]
  },
  {
   "cell_type": "code",
   "execution_count": 18,
   "metadata": {},
   "outputs": [
    {
     "data": {
      "text/plain": [
       "{}"
      ]
     },
     "execution_count": 18,
     "metadata": {},
     "output_type": "execute_result"
    }
   ],
   "source": [
    "results"
   ]
  },
  {
   "cell_type": "code",
   "execution_count": 21,
   "metadata": {},
   "outputs": [
    {
     "data": {
      "text/plain": [
       "{'Banking77Classification': {'mteb_version': '1.1.1',\n",
       "  'dataset_revision': '0fd18e25b25c072e09e0d92ab615fda904d66300',\n",
       "  'mteb_dataset_name': 'Banking77Classification',\n",
       "  'test': {'accuracy': 0.7663636363636364,\n",
       "   'f1': 0.7571862523229754,\n",
       "   'accuracy_stderr': 0.008049329276696824,\n",
       "   'f1_stderr': 0.009676908587947413,\n",
       "   'main_score': 0.7663636363636364,\n",
       "   'evaluation_time': 242.59}}}"
      ]
     },
     "execution_count": 21,
     "metadata": {},
     "output_type": "execute_result"
    }
   ],
   "source": [
    "results_sta"
   ]
  }
 ],
 "metadata": {
  "kernelspec": {
   "display_name": "base",
   "language": "python",
   "name": "python3"
  },
  "language_info": {
   "codemirror_mode": {
    "name": "ipython",
    "version": 3
   },
   "file_extension": ".py",
   "mimetype": "text/x-python",
   "name": "python",
   "nbconvert_exporter": "python",
   "pygments_lexer": "ipython3",
   "version": "3.11.5"
  }
 },
 "nbformat": 4,
 "nbformat_minor": 2
}
